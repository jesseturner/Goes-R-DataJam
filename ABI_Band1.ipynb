{
 "cells": [
  {
   "cell_type": "code",
   "execution_count": 1,
   "id": "2fedd91d-2a7e-403a-abbb-87a478d3fbe9",
   "metadata": {},
   "outputs": [],
   "source": [
    "import s3fs\n",
    "import datetime\n",
    "import xarray as xr\n",
    "import numpy as np\n",
    "\n",
    "import matplotlib as mpl\n",
    "from matplotlib import pyplot as plt\n",
    "import matplotlib.colors as mcolors\n",
    "\n",
    "from cartopy import crs as ccrs\n",
    "import cartopy.feature as cfeature\n",
    "\n",
    "from pathlib import Path\n",
    "from PIL import Image"
   ]
  },
  {
   "cell_type": "code",
   "execution_count": 2,
   "id": "2eb4fcc2-2509-4726-a38c-f08c70b0d5f7",
   "metadata": {},
   "outputs": [],
   "source": [
    "fs = s3fs.S3FileSystem(anon=True)"
   ]
  },
  {
   "cell_type": "code",
   "execution_count": 3,
   "id": "70e97884-e28c-47b7-9a28-9bdc885d82b9",
   "metadata": {},
   "outputs": [],
   "source": [
    "products = fs.ls('noaa-goes16')"
   ]
  },
  {
   "cell_type": "markdown",
   "id": "8db85c81-0e2f-4732-86db-50b2986d0a38",
   "metadata": {},
   "source": [
    "Set the date and hour for the data of interest: "
   ]
  },
  {
   "cell_type": "code",
   "execution_count": 4,
   "id": "f11ab79d-c936-431c-8d6e-043caae64c87",
   "metadata": {},
   "outputs": [
    {
     "name": "stdout",
     "output_type": "stream",
     "text": [
      "090\n"
     ]
    }
   ],
   "source": [
    "year = 2023\n",
    "month = 3\n",
    "day = 31\n",
    "hour = 22\n",
    "\n",
    "julian_day = datetime.datetime(year, month, day).strftime('%j')\n",
    "print(julian_day)"
   ]
  },
  {
   "cell_type": "markdown",
   "id": "4739d0a4-e946-46e8-b90d-ffecaa567a17",
   "metadata": {},
   "source": [
    "Product chosen: ABI imager (mesoscale)"
   ]
  },
  {
   "cell_type": "code",
   "execution_count": 5,
   "id": "4496a8f1-bb51-4a5e-8a11-90760f763d7e",
   "metadata": {},
   "outputs": [],
   "source": [
    "bucket = 'noaa-goes16'\n",
    "product = 'ABI-L1b-RadC'\n",
    "\n",
    "data_path = bucket + '/' + product + '/'  + str(year) + '/' + julian_day + '/' + str(hour).zfill(2)\n",
    "\n",
    "files = fs.ls(data_path)\n",
    "\n",
    "#for file in files:\n",
    "#    print(file.split('/')[-1])"
   ]
  },
  {
   "cell_type": "markdown",
   "id": "df3d9138-85ea-4f77-bfb2-a1491e9ea0ad",
   "metadata": {},
   "source": [
    "M1 refers to mesoscale sector 1, M6 refers to scan mode 6.\n",
    "\n",
    "Select the start and end times within the hour selected earlier: "
   ]
  },
  {
   "cell_type": "code",
   "execution_count": 6,
   "id": "f6f02326-90ee-4b55-bcc9-649da83ee685",
   "metadata": {},
   "outputs": [
    {
     "name": "stdout",
     "output_type": "stream",
     "text": [
      "OR_ABI-L1b-RadC-M6C01_G16_s20230902216168_e20230902218545_c20230902219033.nc\n",
      "Approximate file size (MB): 12.38\n",
      "OR_ABI-L1b-RadC-M6C01_G16_s20230902221168_e20230902223547_c20230902224025.nc\n",
      "Approximate file size (MB): 12.14\n",
      "OR_ABI-L1b-RadC-M6C01_G16_s20230902226168_e20230902228547_c20230902228595.nc\n",
      "Approximate file size (MB): 11.88\n",
      "OR_ABI-L1b-RadC-M6C01_G16_s20230902231168_e20230902233543_c20230902234006.nc\n",
      "Approximate file size (MB): 11.63\n",
      "OR_ABI-L1b-RadC-M6C01_G16_s20230902236168_e20230902238543_c20230902239007.nc\n",
      "Approximate file size (MB): 11.33\n",
      "OR_ABI-L1b-RadC-M6C01_G16_s20230902241168_e20230902243545_c20230902244012.nc\n",
      "Approximate file size (MB): 11.02\n"
     ]
    }
   ],
   "source": [
    "observation_start = '2215'\n",
    "observation_end = '2245'\n",
    "product_name = 'ABI-L1b-RadC-M6C01' #blue vis band\n",
    "\n",
    "matches = [file for file in files if (file.split('/')[-1].split('_')[3][8:12] >= observation_start and file.split('/')[-1].split('_')[3][8:12] <= observation_end and file.split('/')[-1].split('_')[1] == product_name)]\n",
    "\n",
    "for match in matches:\n",
    "    print(match.split('/')[-1])\n",
    "    print('Approximate file size (MB):', round((fs.size(match)/1.0E6), 2))"
   ]
  },
  {
   "cell_type": "markdown",
   "id": "a96d677c-e860-4fd3-a0f4-43ce0a62a85f",
   "metadata": {},
   "source": [
    "Open the first of the selected files:"
   ]
  },
  {
   "cell_type": "code",
   "execution_count": 7,
   "id": "07b3c975-718d-4c8e-9d98-045589f1f753",
   "metadata": {},
   "outputs": [],
   "source": [
    "remote_file = fs.open(matches[0], mode='rb')\n",
    "ds = xr.open_dataset(remote_file, engine='h5netcdf')"
   ]
  },
  {
   "cell_type": "markdown",
   "id": "8b40c095-3fa5-4d29-9c8e-5d982e9d6393",
   "metadata": {},
   "source": [
    "Function to get latitude and longitude from goes fixed grid:"
   ]
  },
  {
   "cell_type": "code",
   "execution_count": 8,
   "id": "416f0b2a-d09b-48b5-acab-d5beac653123",
   "metadata": {},
   "outputs": [],
   "source": [
    "def calculate_abi_lat_lon(ds):\n",
    "    \n",
    "    # Read in GOES ABI fixed grid projection variables and constants\n",
    "    x_coordinate_1d = ds.x  # E/W scanning angle in radians\n",
    "    y_coordinate_1d = ds.y  # N/S elevation angle in radians\n",
    "    projection_info = ds.goes_imager_projection  # ABI fixed grid contstants\n",
    "    lon_origin = projection_info.longitude_of_projection_origin\n",
    "    H = projection_info.perspective_point_height+projection_info.semi_major_axis\n",
    "    r_eq = projection_info.semi_major_axis\n",
    "    r_pol = projection_info.semi_minor_axis\n",
    "    \n",
    "    # Create 2D coordinate matrices from 1D coordinate vectors\n",
    "    x_coordinate_2d, y_coordinate_2d = np.meshgrid(x_coordinate_1d, y_coordinate_1d)\n",
    "    \n",
    "    # Equations to calculate latitude and longitude\n",
    "    lambda_0 = (lon_origin*np.pi)/180.0  \n",
    "    a_var = np.power(np.sin(x_coordinate_2d),2.0) + (np.power(np.cos(x_coordinate_2d),2.0)*(np.power(np.cos(y_coordinate_2d),2.0)+(((r_eq*r_eq)/(r_pol*r_pol))*np.power(np.sin(y_coordinate_2d),2.0))))\n",
    "    b_var = -2.0*H*np.cos(x_coordinate_2d)*np.cos(y_coordinate_2d)\n",
    "    c_var = (H**2.0)-(r_eq**2.0)\n",
    "    r_s = (-1.0*b_var - np.sqrt((b_var**2)-(4.0*a_var*c_var)))/(2.0*a_var)\n",
    "    s_x = r_s*np.cos(x_coordinate_2d)*np.cos(y_coordinate_2d)\n",
    "    s_y = - r_s*np.sin(x_coordinate_2d)\n",
    "    s_z = r_s*np.cos(x_coordinate_2d)*np.sin(y_coordinate_2d)\n",
    "    \n",
    "    lat = (180.0/np.pi)*(np.arctan(((r_eq*r_eq)/(r_pol*r_pol))*((s_z/np.sqrt(((H-s_x)*(H-s_x))+(s_y*s_y))))))\n",
    "    lon = (lambda_0 - np.arctan(s_y/(H-s_x)))*(180.0/np.pi)\n",
    "    \n",
    "    return lat, lon"
   ]
  },
  {
   "cell_type": "markdown",
   "id": "70de036c-15c9-49c9-9e75-2d69286f3d82",
   "metadata": {},
   "source": [
    "Get the geostationary projection variables:"
   ]
  },
  {
   "cell_type": "code",
   "execution_count": 9,
   "id": "ca43492e-0524-47da-83b1-eb88cad644b1",
   "metadata": {},
   "outputs": [],
   "source": [
    "projection_variables = ds.goes_imager_projection\n",
    "satellite_height = projection_variables.perspective_point_height\n",
    "semi_major_axis = projection_variables.semi_major_axis\n",
    "semi_minor_axis = projection_variables.semi_minor_axis\n",
    "central_longitude = projection_variables.longitude_of_projection_origin\n",
    "\n",
    "globe = ccrs.Globe(semimajor_axis=semi_major_axis, semiminor_axis=semi_minor_axis)\n",
    "geo_projection = ccrs.Geostationary(central_longitude=central_longitude, satellite_height=satellite_height,\n",
    "                                    globe=globe, sweep_axis='x')"
   ]
  },
  {
   "cell_type": "markdown",
   "id": "ce5db685-8278-46aa-aaa7-47dc837c7984",
   "metadata": {},
   "source": [
    "Close the opened file:"
   ]
  },
  {
   "cell_type": "code",
   "execution_count": 10,
   "id": "e192eb39-e747-4897-a9c3-0ad4b24cceaa",
   "metadata": {},
   "outputs": [],
   "source": [
    "remote_file.close()\n",
    "ds.close()"
   ]
  },
  {
   "cell_type": "markdown",
   "id": "2c4915db-26b7-404d-aa49-275d5357f16d",
   "metadata": {},
   "source": [
    "Trying with the mesoscale sector"
   ]
  },
  {
   "cell_type": "code",
   "execution_count": 11,
   "id": "0f843013-79f7-4a67-af32-077733d74304",
   "metadata": {},
   "outputs": [],
   "source": [
    "bucket = 'noaa-goes16'\n",
    "product = 'ABI-L1b-RadM'\n",
    "\n",
    "data_path = bucket + '/' + product + '/'  + str(year) + '/' + julian_day + '/' + str(hour).zfill(2)\n",
    "\n",
    "files = fs.ls(data_path)\n",
    "\n",
    "# for file in files:\n",
    "#    print(file.split('/')[-1])"
   ]
  },
  {
   "cell_type": "code",
   "execution_count": 12,
   "id": "e73aedbe-e105-4aac-8f20-462a59d7b923",
   "metadata": {},
   "outputs": [
    {
     "name": "stdout",
     "output_type": "stream",
     "text": [
      "OR_ABI-L1b-RadM1-M6C01_G16_s20230902215247_e20230902215306_c20230902215340.nc\n",
      "Approximate file size (MB): 1.19\n",
      "OR_ABI-L1b-RadM1-M6C01_G16_s20230902216247_e20230902216306_c20230902216349.nc\n",
      "Approximate file size (MB): 1.19\n",
      "OR_ABI-L1b-RadM1-M6C01_G16_s20230902217247_e20230902217308_c20230902217349.nc\n",
      "Approximate file size (MB): 1.19\n",
      "OR_ABI-L1b-RadM1-M6C01_G16_s20230902218247_e20230902218309_c20230902218350.nc\n",
      "Approximate file size (MB): 1.19\n",
      "OR_ABI-L1b-RadM1-M6C01_G16_s20230902219247_e20230902219305_c20230902219347.nc\n",
      "Approximate file size (MB): 1.18\n",
      "OR_ABI-L1b-RadM1-M6C01_G16_s20230902220276_e20230902220335_c20230902220368.nc\n",
      "Approximate file size (MB): 1.18\n",
      "OR_ABI-L1b-RadM1-M6C01_G16_s20230902221247_e20230902221305_c20230902221348.nc\n",
      "Approximate file size (MB): 1.18\n",
      "OR_ABI-L1b-RadM1-M6C01_G16_s20230902222247_e20230902222305_c20230902222345.nc\n",
      "Approximate file size (MB): 1.18\n",
      "OR_ABI-L1b-RadM1-M6C01_G16_s20230902223247_e20230902223306_c20230902223349.nc\n",
      "Approximate file size (MB): 1.18\n",
      "OR_ABI-L1b-RadM1-M6C01_G16_s20230902224247_e20230902224308_c20230902224358.nc\n",
      "Approximate file size (MB): 1.17\n",
      "OR_ABI-L1b-RadM1-M6C01_G16_s20230902225247_e20230902225306_c20230902225349.nc\n",
      "Approximate file size (MB): 1.17\n",
      "OR_ABI-L1b-RadM1-M6C01_G16_s20230902226247_e20230902226307_c20230902226355.nc\n",
      "Approximate file size (MB): 1.17\n",
      "OR_ABI-L1b-RadM1-M6C01_G16_s20230902227247_e20230902227306_c20230902227346.nc\n",
      "Approximate file size (MB): 1.16\n",
      "OR_ABI-L1b-RadM1-M6C01_G16_s20230902228247_e20230902228307_c20230902228347.nc\n",
      "Approximate file size (MB): 1.16\n",
      "OR_ABI-L1b-RadM1-M6C01_G16_s20230902229247_e20230902229307_c20230902229343.nc\n",
      "Approximate file size (MB): 1.16\n",
      "OR_ABI-L1b-RadM1-M6C01_G16_s20230902230276_e20230902230336_c20230902230378.nc\n",
      "Approximate file size (MB): 1.16\n",
      "OR_ABI-L1b-RadM1-M6C01_G16_s20230902231247_e20230902231305_c20230902231346.nc\n",
      "Approximate file size (MB): 1.16\n",
      "OR_ABI-L1b-RadM1-M6C01_G16_s20230902232247_e20230902232306_c20230902232348.nc\n",
      "Approximate file size (MB): 1.15\n",
      "OR_ABI-L1b-RadM1-M6C01_G16_s20230902233247_e20230902233305_c20230902233344.nc\n",
      "Approximate file size (MB): 1.15\n",
      "OR_ABI-L1b-RadM1-M6C01_G16_s20230902234247_e20230902234305_c20230902234346.nc\n",
      "Approximate file size (MB): 1.15\n",
      "OR_ABI-L1b-RadM1-M6C01_G16_s20230902235247_e20230902235306_c20230902235342.nc\n",
      "Approximate file size (MB): 1.14\n",
      "OR_ABI-L1b-RadM1-M6C01_G16_s20230902236247_e20230902236306_c20230902236351.nc\n",
      "Approximate file size (MB): 1.14\n",
      "OR_ABI-L1b-RadM1-M6C01_G16_s20230902237247_e20230902237308_c20230902237342.nc\n",
      "Approximate file size (MB): 1.14\n",
      "OR_ABI-L1b-RadM1-M6C01_G16_s20230902238247_e20230902238308_c20230902238341.nc\n",
      "Approximate file size (MB): 1.13\n",
      "OR_ABI-L1b-RadM1-M6C01_G16_s20230902239247_e20230902239309_c20230902239341.nc\n",
      "Approximate file size (MB): 1.13\n",
      "OR_ABI-L1b-RadM1-M6C01_G16_s20230902240276_e20230902240336_c20230902240368.nc\n",
      "Approximate file size (MB): 1.13\n",
      "OR_ABI-L1b-RadM1-M6C01_G16_s20230902241247_e20230902241305_c20230902241349.nc\n",
      "Approximate file size (MB): 1.13\n",
      "OR_ABI-L1b-RadM1-M6C01_G16_s20230902242247_e20230902242307_c20230902242348.nc\n",
      "Approximate file size (MB): 1.12\n",
      "OR_ABI-L1b-RadM1-M6C01_G16_s20230902243247_e20230902243311_c20230902243357.nc\n",
      "Approximate file size (MB): 1.12\n",
      "OR_ABI-L1b-RadM1-M6C01_G16_s20230902244247_e20230902244307_c20230902244346.nc\n",
      "Approximate file size (MB): 1.12\n",
      "OR_ABI-L1b-RadM1-M6C01_G16_s20230902245247_e20230902245308_c20230902245349.nc\n",
      "Approximate file size (MB): 1.11\n"
     ]
    }
   ],
   "source": [
    "observation_start = '2215'\n",
    "observation_end = '2245'\n",
    "product_name = 'ABI-L1b-RadM1-M6C01' #blue vis band\n",
    "\n",
    "matches = [file for file in files if (file.split('/')[-1].split('_')[3][8:12] >= observation_start and file.split('/')[-1].split('_')[3][8:12] <= observation_end and file.split('/')[-1].split('_')[1] == product_name)]\n",
    "\n",
    "for match in matches:\n",
    "    print(match.split('/')[-1])\n",
    "    print('Approximate file size (MB):', round((fs.size(match)/1.0E6), 2))"
   ]
  },
  {
   "cell_type": "code",
   "execution_count": 13,
   "id": "982117d1-0e8f-4048-8a94-2cdba1eabb64",
   "metadata": {},
   "outputs": [],
   "source": [
    "for match in matches:\n",
    "    with fs.open(match, mode='rb') as remote_file:\n",
    "        with xr.open_dataset(remote_file, engine='h5netcdf') as ds:\n",
    "            projection=ccrs.PlateCarree()\n",
    "            fig,ax=plt.subplots(1, figsize=(12,12),subplot_kw={'projection': projection})\n",
    "            cmap = plt.cm.PuBu_r\n",
    "            levels = np.linspace(0, 500, 21)\n",
    "\n",
    "            lat, lon = calculate_abi_lat_lon(ds)\n",
    "            ax.set_extent([np.nanmin(lon), np.nanmax(lon), np.nanmin(lat), np.nanmax(lat)])\n",
    "            #ax.set_extent([-67, -125, 25, 49]) --- CONUS\n",
    "\n",
    "            c=ax.contourf(lon, lat, ds.Rad, cmap=cmap, extend='max', levels=levels)\n",
    "            clb=plt.colorbar(c, shrink=0.3, pad=0.02, ax=ax)\n",
    "            clb.set_label('Radiance')\n",
    "\n",
    "            ax.coastlines(resolution='50m', color='black', linewidth=1)\n",
    "            ax.add_feature(cfeature.STATES)\n",
    "            \n",
    "            time = match.split('/')[-1][35:37] +':'+ match.split('/')[-1][37:39]\n",
    "            date = str(year) +'/'+ str(month) +'/'+ str(day)\n",
    "            title = 'ABI Band 1 [Blue] (' + date + ' ' + time + ' UTC)'\n",
    "            ax.set_title(title)\n",
    "            \n",
    "            saved_file_name = 'ABI_Band1_'+str(year)+'_'+str(month)+'_'+str(day)+'_'+match.split('/')[-1][35:39]\n",
    "            fig.savefig(saved_file_name, dpi=100, bbox_inches='tight')\n",
    "            \n",
    "            plt.close()"
   ]
  },
  {
   "cell_type": "code",
   "execution_count": 14,
   "id": "587d71a5-6c28-4fb6-8019-5bce42fdf8ca",
   "metadata": {},
   "outputs": [],
   "source": [
    "def create_pillow_animation(file_list, save_path, save_name, duration, loop):\n",
    "    frames = [Image.open(file) for file in file_list]\n",
    "\n",
    "    frames[0].save((save_path / save_name).as_posix() + '.gif', format='GIF', append_images=frames[1:], \n",
    "                    save_all=True, duration=duration, loop=loop)\n",
    "    print('Animation done!')"
   ]
  },
  {
   "cell_type": "code",
   "execution_count": 15,
   "id": "2e0a30a1-8754-4376-9570-84ce34e60990",
   "metadata": {},
   "outputs": [
    {
     "name": "stdout",
     "output_type": "stream",
     "text": [
      "Animation done!\n"
     ]
    }
   ],
   "source": [
    "pil_duration = 100  # Time in ms between frames (e.g., 1000 ms = 1 second between frames)\n",
    "pil_loop = 0  # No. times animation repeats (e.g., 0: loops continuously; 2: runs 3 times then stops)\n",
    "animation_save_path = Path.cwd()  # Directory where animation file will be saved\n",
    "date = str(year)+'_'+str(month)+'_'+str(day)\n",
    "animation_save_name = 'ABI_Band1_'+date+'_animation'  # Name for saved animation .gif file\n",
    "\n",
    "graphics_files = sorted(Path.cwd().glob('ABI_Band1_'+date+'*.png'))\n",
    "\n",
    "# Create the animation using the function defined previously\n",
    "create_pillow_animation(graphics_files, animation_save_path, animation_save_name, pil_duration, pil_loop)"
   ]
  },
  {
   "cell_type": "code",
   "execution_count": null,
   "id": "cec21ec1-70d0-4225-a09c-835cf09c30af",
   "metadata": {},
   "outputs": [],
   "source": []
  }
 ],
 "metadata": {
  "kernelspec": {
   "display_name": "Python 3 (ipykernel)",
   "language": "python",
   "name": "python3"
  },
  "language_info": {
   "codemirror_mode": {
    "name": "ipython",
    "version": 3
   },
   "file_extension": ".py",
   "mimetype": "text/x-python",
   "name": "python",
   "nbconvert_exporter": "python",
   "pygments_lexer": "ipython3",
   "version": "3.9.0"
  }
 },
 "nbformat": 4,
 "nbformat_minor": 5
}
