{
 "cells": [
  {
   "cell_type": "code",
   "execution_count": null,
   "id": "2fedd91d-2a7e-403a-abbb-87a478d3fbe9",
   "metadata": {},
   "outputs": [],
   "source": [
    "import s3fs\n",
    "import datetime\n",
    "import xarray as xr\n",
    "import numpy as np\n",
    "\n",
    "import matplotlib as mpl\n",
    "from matplotlib import pyplot as plt\n",
    "import matplotlib.colors as mcolors\n",
    "\n",
    "from cartopy import crs as ccrs\n",
    "import cartopy.feature as cfeature\n",
    "\n",
    "from pathlib import Path\n",
    "from PIL import Image\n",
    "import os"
   ]
  },
  {
   "cell_type": "code",
   "execution_count": null,
   "id": "2eb4fcc2-2509-4726-a38c-f08c70b0d5f7",
   "metadata": {},
   "outputs": [],
   "source": [
    "fs = s3fs.S3FileSystem(anon=True)"
   ]
  },
  {
   "cell_type": "code",
   "execution_count": null,
   "id": "70e97884-e28c-47b7-9a28-9bdc885d82b9",
   "metadata": {},
   "outputs": [],
   "source": [
    "products = fs.ls('noaa-goes16')"
   ]
  },
  {
   "cell_type": "markdown",
   "id": "8db85c81-0e2f-4732-86db-50b2986d0a38",
   "metadata": {},
   "source": [
    "Set the date and hour for the data of interest: "
   ]
  },
  {
   "cell_type": "code",
   "execution_count": null,
   "id": "f11ab79d-c936-431c-8d6e-043caae64c87",
   "metadata": {},
   "outputs": [],
   "source": [
    "year = 2023\n",
    "month = 10\n",
    "day = 1\n",
    "hour = 19\n",
    "\n",
    "julian_day = datetime.datetime(year, month, day).strftime('%j')\n",
    "print(julian_day)"
   ]
  },
  {
   "cell_type": "markdown",
   "id": "4739d0a4-e946-46e8-b90d-ffecaa567a17",
   "metadata": {},
   "source": [
    "Product chosen: ABI imager (mesoscale)"
   ]
  },
  {
   "cell_type": "code",
   "execution_count": null,
   "id": "4496a8f1-bb51-4a5e-8a11-90760f763d7e",
   "metadata": {},
   "outputs": [],
   "source": [
    "bucket = 'noaa-goes16'\n",
    "product = 'ABI-L1b-RadM'\n",
    "\n",
    "data_path = bucket + '/' + product + '/'  + str(year) + '/' + julian_day + '/' + str(hour).zfill(2)\n",
    "\n",
    "files = fs.ls(data_path)\n",
    "\n",
    "# for file in files:\n",
    "#    print(file.split('/')[-1])"
   ]
  },
  {
   "cell_type": "markdown",
   "id": "b4f502e8-a2ba-4def-b818-c61820f27e9b",
   "metadata": {},
   "source": [
    "Collecting the GLM data:"
   ]
  },
  {
   "cell_type": "code",
   "execution_count": null,
   "id": "379f71dc-bb0b-485d-9a8c-d0294391556c",
   "metadata": {},
   "outputs": [],
   "source": [
    "bucket = 'noaa-goes16'\n",
    "product = 'GLM-L2-LCFA'\n",
    "\n",
    "data_path = bucket + '/' + product + '/'  + str(year) + '/' + julian_day + '/' + str(hour).zfill(2)\n",
    "\n",
    "files_glm = fs.ls(data_path)\n",
    "\n",
    "# for file in files_glm:\n",
    "#    print(file.split('/')[-1])"
   ]
  },
  {
   "cell_type": "markdown",
   "id": "df3d9138-85ea-4f77-bfb2-a1491e9ea0ad",
   "metadata": {},
   "source": [
    "M1 refers to mesoscale sector 1, M6 refers to scan mode 6.\n",
    "\n",
    "Select the start and end times within the hour selected earlier: "
   ]
  },
  {
   "cell_type": "code",
   "execution_count": null,
   "id": "f6f02326-90ee-4b55-bcc9-649da83ee685",
   "metadata": {},
   "outputs": [],
   "source": [
    "observation_start = str(hour)+'00'\n",
    "observation_end = str(hour+1)+'00'\n",
    "product_name_01 = 'ABI-L1b-RadM1-M6C02' #red vis band\n",
    "product_name_07 = 'ABI-L1b-RadM1-M6C13' #SW IR band (10.9um)\n",
    "product_name_glm = 'GLM-L2-LCFA' #GLM\n",
    "\n",
    "matches_01 = [file for file in files if (file.split('/')[-1].split('_')[3][8:12] >= observation_start and file.split('/')[-1].split('_')[3][8:12] <= observation_end and file.split('/')[-1].split('_')[1] == product_name_01)]\n",
    "matches_07 = [file for file in files if (file.split('/')[-1].split('_')[3][8:12] >= observation_start and file.split('/')[-1].split('_')[3][8:12] <= observation_end and file.split('/')[-1].split('_')[1] == product_name_07)]\n",
    "matches_glm = [file for file in files_glm if (file.split('/')[-1].split('_')[3][8:12] >= observation_start and file.split('/')[-1].split('_')[3][8:12] <= observation_end and file.split('/')[-1].split('_')[1] == product_name_glm)]\n",
    "\n",
    "for match_07 in matches_07:\n",
    "    print(match_07.split('/')[-1])\n",
    "    print('Approximate file size (MB):', round((fs.size(match_07)/1.0E6), 2))\n"
   ]
  },
  {
   "cell_type": "markdown",
   "id": "8b40c095-3fa5-4d29-9c8e-5d982e9d6393",
   "metadata": {},
   "source": [
    "Function to get latitude and longitude from goes fixed grid:"
   ]
  },
  {
   "cell_type": "code",
   "execution_count": null,
   "id": "416f0b2a-d09b-48b5-acab-d5beac653123",
   "metadata": {},
   "outputs": [],
   "source": [
    "def calculate_abi_lat_lon(ds):\n",
    "    \n",
    "    # Read in GOES ABI fixed grid projection variables and constants\n",
    "    x_coordinate_1d = ds.x  # E/W scanning angle in radians\n",
    "    y_coordinate_1d = ds.y  # N/S elevation angle in radians\n",
    "    projection_info = ds.goes_imager_projection  # ABI fixed grid contstants\n",
    "    lon_origin = projection_info.longitude_of_projection_origin\n",
    "    H = projection_info.perspective_point_height+projection_info.semi_major_axis\n",
    "    r_eq = projection_info.semi_major_axis\n",
    "    r_pol = projection_info.semi_minor_axis\n",
    "    \n",
    "    # Create 2D coordinate matrices from 1D coordinate vectors\n",
    "    x_coordinate_2d, y_coordinate_2d = np.meshgrid(x_coordinate_1d, y_coordinate_1d)\n",
    "    \n",
    "    # Equations to calculate latitude and longitude\n",
    "    lambda_0 = (lon_origin*np.pi)/180.0  \n",
    "    a_var = np.power(np.sin(x_coordinate_2d),2.0) + (np.power(np.cos(x_coordinate_2d),2.0)*(np.power(np.cos(y_coordinate_2d),2.0)+(((r_eq*r_eq)/(r_pol*r_pol))*np.power(np.sin(y_coordinate_2d),2.0))))\n",
    "    b_var = -2.0*H*np.cos(x_coordinate_2d)*np.cos(y_coordinate_2d)\n",
    "    c_var = (H**2.0)-(r_eq**2.0)\n",
    "    r_s = (-1.0*b_var - np.sqrt((b_var**2)-(4.0*a_var*c_var)))/(2.0*a_var)\n",
    "    s_x = r_s*np.cos(x_coordinate_2d)*np.cos(y_coordinate_2d)\n",
    "    s_y = - r_s*np.sin(x_coordinate_2d)\n",
    "    s_z = r_s*np.cos(x_coordinate_2d)*np.sin(y_coordinate_2d)\n",
    "    \n",
    "    lat = (180.0/np.pi)*(np.arctan(((r_eq*r_eq)/(r_pol*r_pol))*((s_z/np.sqrt(((H-s_x)*(H-s_x))+(s_y*s_y))))))\n",
    "    lon = (lambda_0 - np.arctan(s_y/(H-s_x)))*(180.0/np.pi)\n",
    "    \n",
    "    return lat, lon"
   ]
  },
  {
   "cell_type": "markdown",
   "id": "94c9cb48-865f-4b4a-8c9d-a2e6272262dd",
   "metadata": {},
   "source": [
    "Checking out the mesoscale sector: "
   ]
  },
  {
   "cell_type": "code",
   "execution_count": null,
   "id": "4979d3e3-0435-4cca-bdd7-d10a6039f281",
   "metadata": {},
   "outputs": [],
   "source": [
    "sample_01 = matches_01[25]\n",
    "sample_07 = matches_07[25]\n",
    "sample_glm = matches_glm[25]"
   ]
  },
  {
   "cell_type": "markdown",
   "id": "b054c565-499b-4d8e-ba71-207807fba396",
   "metadata": {},
   "source": [
    "Viewing sample data with GLM: "
   ]
  },
  {
   "cell_type": "code",
   "execution_count": null,
   "id": "a7241747-2a1d-49c3-aa15-f7c5a537bbb3",
   "metadata": {},
   "outputs": [],
   "source": [
    "with fs.open(sample_01, mode='rb') as remote_file_01:\n",
    "    with xr.open_dataset(remote_file_01, engine='h5netcdf') as ds_01:\n",
    "        #print(ds_01)\n",
    "\n",
    "        with fs.open(sample_07, mode='rb') as remote_file_07:\n",
    "            with xr.open_dataset(remote_file_07, engine='h5netcdf') as ds_07:\n",
    "                #print(ds_07)\n",
    "                \n",
    "                with fs.open(sample_glm, mode='rb') as remote_file_glm:\n",
    "                    with xr.open_dataset(remote_file_glm, engine='h5netcdf') as ds_glm:\n",
    "        \n",
    "                        projection=ccrs.PlateCarree()\n",
    "                        fig,ax=plt.subplots(2, figsize=(12,12),subplot_kw={'projection': projection})\n",
    "                        cmap_01 = plt.cm.PuBu_r\n",
    "                        cmap_07 = plt.cm.PuBu\n",
    "                        levels_01 = np.linspace(0, 500, 21)\n",
    "                        levels_07 = np.linspace(-50, 100, 21)\n",
    "        \n",
    "                        lat_01, lon_01 = calculate_abi_lat_lon(ds_01)\n",
    "                        lat_07, lon_07 = calculate_abi_lat_lon(ds_07)\n",
    "                        ax[0].set_extent([np.nanmin(lon_01), np.nanmax(lon_01), np.nanmin(lat_01), np.nanmax(lat_01)])\n",
    "                        ax[1].set_extent([np.nanmin(lon_07), np.nanmax(lon_07), np.nanmin(lat_07), np.nanmax(lat_07)])\n",
    "                    \n",
    "                        c_01=ax[0].contourf(lon_01, lat_01, ds_01.Rad, cmap=cmap_01, extend='max', levels=levels_01)\n",
    "                        glm = ax[0].scatter(ds_glm.flash_lon, ds_glm.flash_lat, c='#FFE19C', zorder=2)\n",
    "                        c_07=ax[1].contourf(lon_07, lat_07, ds_07.Rad, cmap=cmap_07, extend='max', levels=levels_07)\n",
    "                        glm = ax[1].scatter(ds_glm.flash_lon, ds_glm.flash_lat, c='#FFE19C', zorder=2)\n",
    "                        clb_01=plt.colorbar(c_01, shrink=0.3, pad=0.02, ax=ax[0])\n",
    "                        clb_07=plt.colorbar(c_07, shrink=0.3, pad=0.02, ax=ax[1])\n",
    "                        clb_01.set_label('Radiance')\n",
    "                        clb_07.set_label('Radiance')\n",
    "                    \n",
    "                        ax[0].coastlines(resolution='50m', color='black', linewidth=1)\n",
    "                        ax[0].add_feature(cfeature.STATES)\n",
    "                        ax[1].coastlines(resolution='50m', color='black', linewidth=1)\n",
    "                        ax[1].add_feature(cfeature.STATES)\n",
    "                        \n",
    "                        time = sample_01.split('/')[-1][35:37] +':'+ sample_01.split('/')[-1][37:39]\n",
    "                        date = str(year) +'/'+ str(month) +'/'+ str(day)\n",
    "                        title_01 = 'ABI Band 2 [Red] (' + date + ' ' + time + ' UTC)'\n",
    "                        title_07 = 'ABI Band 13 [LW IR] (' + date + ' ' + time + ' UTC)'\n",
    "                        ax[0].set_title(title_01)\n",
    "                        ax[1].set_title(title_07)"
   ]
  },
  {
   "cell_type": "markdown",
   "id": "517ede22-cd43-4d9b-8234-17f5b3754d63",
   "metadata": {},
   "source": [
    "Determine the sunset and sunrise times:"
   ]
  },
  {
   "cell_type": "code",
   "execution_count": null,
   "id": "17fccdee-cd52-459d-8067-87f694035f2e",
   "metadata": {},
   "outputs": [],
   "source": [
    "!pip install suntime"
   ]
  },
  {
   "cell_type": "code",
   "execution_count": null,
   "id": "529ae07f-8ba4-44b1-badd-71cf5f970f46",
   "metadata": {},
   "outputs": [],
   "source": [
    "from suntime import Sun\n",
    "import pytz"
   ]
  },
  {
   "cell_type": "code",
   "execution_count": null,
   "id": "3bcb54d8-f511-49ef-8f6b-1bc5c73e101c",
   "metadata": {},
   "outputs": [],
   "source": [
    "time = sample_01.split('/')[-1][35:37] +':'+ sample_01.split('/')[-1][37:39]\n",
    "date = str(year) +'/'+ str(month) +'/'+ str(day)\n",
    "time_str = date + ' ' + time\n",
    "utc_time = datetime.datetime.strptime(time_str, \"%Y/%m/%d %H:%M\")"
   ]
  },
  {
   "cell_type": "code",
   "execution_count": null,
   "id": "c35cf979-c602-436f-903a-304b638d643d",
   "metadata": {},
   "outputs": [],
   "source": [
    "sun = Sun(np.mean(lat_01), np.mean(lon_01))\n",
    "abd = utc_time.date()\n",
    "sr = sun.get_sunrise_time(abd)\n",
    "sr = sr.replace(tzinfo=None)\n",
    "#--- This line may need to be adjusted to work for different seasons\n",
    "ss = sun.get_sunset_time(abd)\n",
    "ss = ss.replace(tzinfo=None)\n",
    "if utc_time > ss:\n",
    "    ss = ss + datetime.timedelta(days=1)\n",
    "\n",
    "print('Sunrise time: ',sr)\n",
    "print('Sunset time: ',ss)"
   ]
  },
  {
   "cell_type": "markdown",
   "id": "8ad24663-9d65-4923-a381-b1af64f529e1",
   "metadata": {},
   "source": [
    "Sunset time may need manual adjustment: \n",
    "* Alpha should be negative for night, positive for day"
   ]
  },
  {
   "cell_type": "code",
   "execution_count": null,
   "id": "43b76ce4-808f-4a7e-a513-49fcb8ced22e",
   "metadata": {},
   "outputs": [],
   "source": [
    "#--- Manual adjustment, if sunset lands on next day\n",
    "# ss = ss + datetime.timedelta(days=-1)\n",
    "# print('Sunset time: ',ss)\n",
    "\n",
    "t_diff = ss - utc_time\n",
    "min_to_ss = t_diff.total_seconds() / 60\n",
    "alpha = min_to_ss/60\n",
    "print('sample alpha: ', alpha)"
   ]
  },
  {
   "cell_type": "markdown",
   "id": "626030d6-8889-4f8a-9555-8a8ede0ad0a2",
   "metadata": {},
   "source": [
    "Create image directory, if needed:"
   ]
  },
  {
   "cell_type": "code",
   "execution_count": null,
   "id": "8cc76f28-0d0e-4333-966b-107f6d0ed985",
   "metadata": {},
   "outputs": [],
   "source": [
    "image_dir = 'ABI_Combo_Fade_'+str(year)+'_'+str(month)+'_'+str(day)\n",
    "\n",
    "if not os.path.exists(image_dir):\n",
    "    os.makedirs(image_dir)"
   ]
  },
  {
   "cell_type": "markdown",
   "id": "2ed71734-23d0-4b17-9bc3-835fcaddfdb9",
   "metadata": {},
   "source": [
    "Animation with fade from VIS to IR:"
   ]
  },
  {
   "cell_type": "code",
   "execution_count": null,
   "id": "af5ab6e7-eb8b-45f9-8ef7-9df10ac8fda1",
   "metadata": {},
   "outputs": [],
   "source": [
    "for i in range(len(matches_01)):\n",
    "    with fs.open(matches_01[i], mode='rb') as remote_file_01:\n",
    "        with xr.open_dataset(remote_file_01, engine='h5netcdf') as ds_01:\n",
    "    \n",
    "            with fs.open(matches_07[i], mode='rb') as remote_file_07:\n",
    "                with xr.open_dataset(remote_file_07, engine='h5netcdf') as ds_07:\n",
    "\n",
    "                    with fs.open(matches_glm[i], mode='rb') as remote_file_glm:\n",
    "                        with xr.open_dataset(remote_file_glm, engine='h5netcdf') as ds_glm:\n",
    "            \n",
    "                            projection=ccrs.PlateCarree()\n",
    "                            fig,ax=plt.subplots(1, figsize=(12,12),subplot_kw={'projection': projection})\n",
    "                            \n",
    "                            time = matches_01[i].split('/')[-1][35:37] +':'+ matches_01[i].split('/')[-1][37:39]\n",
    "                            date = str(year) +'/'+ str(month) +'/'+ str(day)\n",
    "                            time_str = date + ' ' + time\n",
    "                            utc_time = datetime.datetime.strptime(time_str, \"%Y/%m/%d %H:%M\")\n",
    "            \n",
    "                            cmap_01 = plt.cm.PuBu_r\n",
    "                            cmap_07 = plt.cm.PuBu\n",
    "                            lat_01, lon_01 = calculate_abi_lat_lon(ds_01)\n",
    "                            lat_07, lon_07 = calculate_abi_lat_lon(ds_07)\n",
    "                            \n",
    "                            ax.set_extent([np.nanmin(lon_01), np.nanmax(lon_01), np.nanmin(lat_01), np.nanmax(lat_01)])\n",
    "            \n",
    "                            #--- Calculation for the fade between VIS and IR\n",
    "                            #------ Only works for sunset\n",
    "                            t_diff = ss - utc_time\n",
    "                            min_to_ss = t_diff.total_seconds() / 60\n",
    "                            alpha = min_to_ss/60\n",
    "                            if alpha > 1: \n",
    "                                alpha = 1\n",
    "                            if alpha < 0: \n",
    "                                alpha = 0\n",
    "                        \n",
    "                            #--- Daytime\n",
    "                            c_01=ax.contourf(lon_01, lat_01, ds_01.Rad, cmap=cmap_01, extend='max', levels=levels_01, alpha=alpha)\n",
    "\n",
    "                            #--- Nighttime\n",
    "                            c_07=ax.contourf(lon_07, lat_07, ds_07.Rad, cmap=cmap_07, extend='max', levels=levels_07, alpha=1-alpha)\n",
    "\n",
    "                            #--- GLM\n",
    "                            glm = ax.scatter(ds_glm.flash_lon, ds_glm.flash_lat, c='#d4af37', zorder=2)\n",
    "\n",
    "                            #--- Figure labels\n",
    "                            title = 'ABI Combo Fade (' + date + ' ' + time + ' UTC)'\n",
    "                            ax.coastlines(resolution='50m', color='black', linewidth=1)\n",
    "                            ax.add_feature(cfeature.STATES)\n",
    "                            ax.set_title(title)\n",
    "\n",
    "                            #--- Saving imagery\n",
    "                            saved_file_name = 'ABI_Combo_Fade_'+str(year)+'_'+str(month)+'_'+str(day)+'_'+matches_01[i].split('/')[-1][35:39]\n",
    "                            fig.savefig(image_dir+'/'+saved_file_name, dpi=100, bbox_inches='tight')\n",
    "                    \n",
    "                            plt.close()\n",
    "            "
   ]
  },
  {
   "cell_type": "markdown",
   "id": "376f029b-f811-425c-8ca8-0b9e6956aaaf",
   "metadata": {},
   "source": [
    "Create animation: "
   ]
  },
  {
   "cell_type": "code",
   "execution_count": null,
   "id": "f874c7e6-6616-4509-a54b-853620ed0b3c",
   "metadata": {},
   "outputs": [],
   "source": [
    "def create_pillow_animation(file_list, save_path, save_name, duration, loop):\n",
    "    frames = [Image.open(file) for file in file_list]\n",
    "\n",
    "    frames[0].save((save_path / save_name).as_posix() + '.gif', format='GIF', append_images=frames[1:], \n",
    "                    save_all=True, duration=duration, loop=loop)\n",
    "    print('Animation done!')"
   ]
  },
  {
   "cell_type": "code",
   "execution_count": null,
   "id": "c4b7f1b7-6953-4423-8cb8-b348c6e836b7",
   "metadata": {},
   "outputs": [],
   "source": [
    "graphics_files = sorted(Path.cwd().glob(image_dir+'/ABI_*.png'))"
   ]
  },
  {
   "cell_type": "code",
   "execution_count": null,
   "id": "83615f64-a620-477e-8d73-753477ab40e7",
   "metadata": {},
   "outputs": [],
   "source": [
    "pil_duration = 25  # Time in ms between frames (e.g., 1000 ms = 1 second between frames)\n",
    "pil_loop = 0  # No. times animation repeats (e.g., 0: loops continuously; 2: runs 3 times then stops)\n",
    "animation_save_path = Path.cwd()  # Directory where animation file will be saved\n",
    "date = str(year)+'_'+str(month)+'_'+str(day)\n",
    "animation_save_name = 'ABI_Combo_Fade_'+date+'_animation'  # Name for saved animation .gif file\n",
    "\n",
    "graphics_files = sorted(Path.cwd().glob(image_dir+'/ABI_*.png'))\n",
    "\n",
    "# Create the animation using the function defined previously\n",
    "create_pillow_animation(graphics_files, animation_save_path, animation_save_name, pil_duration, pil_loop)"
   ]
  },
  {
   "cell_type": "code",
   "execution_count": null,
   "id": "0ad32ee4-6687-4696-ba11-bacb78d9df8c",
   "metadata": {},
   "outputs": [],
   "source": [
    "!pip install imageio\n",
    "!pip install imageio[ffmpeg]"
   ]
  },
  {
   "cell_type": "markdown",
   "id": "511d26d2-222c-4d29-a6a4-4ab0e77a20d7",
   "metadata": {},
   "source": [
    "Creating an MP4 video file: "
   ]
  },
  {
   "cell_type": "code",
   "execution_count": null,
   "id": "17843537-5baa-43c0-b00e-22b2c5620a31",
   "metadata": {},
   "outputs": [],
   "source": [
    "import imageio"
   ]
  },
  {
   "cell_type": "code",
   "execution_count": null,
   "id": "cf03f023-ccce-4cad-aa7d-6dfb4d58b247",
   "metadata": {},
   "outputs": [],
   "source": [
    "def create_mp4_animation(file_list, save_path, save_name, duration):\n",
    "    images = [imageio.imread(file) for file in file_list]\n",
    "    mp4_file = save_path / (save_name + '.mp4')\n",
    "\n",
    "    with imageio.get_writer(mp4_file, fps=10) as writer:\n",
    "        for image in images:\n",
    "            writer.append_data(image)\n",
    "\n",
    "    print('MP4 animation done!')"
   ]
  },
  {
   "cell_type": "code",
   "execution_count": null,
   "id": "30f8c403-48b9-495e-9523-0653474baf3e",
   "metadata": {},
   "outputs": [],
   "source": [
    "pil_duration = 25\n",
    "animation_save_path = Path.cwd()\n",
    "date = str(year)+'_'+str(month)+'_'+str(day)\n",
    "animation_save_name = 'ABI_Combo_Fade_'+date+'_video'\n",
    "\n",
    "graphics_files = sorted(Path.cwd().glob(image_dir+'/ABI_*.png'))\n",
    "\n",
    "create_mp4_animation(graphics_files, animation_save_path, animation_save_name, pil_duration)"
   ]
  },
  {
   "cell_type": "code",
   "execution_count": null,
   "id": "b253c23b-7fbe-4cf9-836f-3251c992b7f2",
   "metadata": {},
   "outputs": [],
   "source": []
  },
  {
   "cell_type": "code",
   "execution_count": null,
   "id": "dca79404-2dda-419d-af13-0bdeda1cccec",
   "metadata": {},
   "outputs": [],
   "source": []
  }
 ],
 "metadata": {
  "kernelspec": {
   "display_name": "datajam",
   "language": "python",
   "name": "datajam"
  },
  "language_info": {
   "codemirror_mode": {
    "name": "ipython",
    "version": 3
   },
   "file_extension": ".py",
   "mimetype": "text/x-python",
   "name": "python",
   "nbconvert_exporter": "python",
   "pygments_lexer": "ipython3",
   "version": "3.9.18"
  }
 },
 "nbformat": 4,
 "nbformat_minor": 5
}
